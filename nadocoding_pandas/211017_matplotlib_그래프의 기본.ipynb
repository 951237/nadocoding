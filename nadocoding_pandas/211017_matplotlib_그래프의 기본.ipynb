{
 "cells": [
  {
   "cell_type": "code",
   "execution_count": 35,
   "id": "bc14a828",
   "metadata": {},
   "outputs": [
    {
     "data": {
      "text/plain": [
       "Text(0.5, 1.0, '라인 그래프')"
      ]
     },
     "execution_count": 35,
     "metadata": {},
     "output_type": "execute_result"
    },
    {
     "data": {
      "image/png": "[encoded data removed]",
      "text/plain": [
       "<Figure size 432x288 with 1 Axes>"
      ]
     },
     "metadata": {
      "needs_background": "light"
     },
     "output_type": "display_data"
    }
   ],
   "source": [
    "import matplotlib.pyplot as plt\n",
    "\n",
    "x = [-1, 0, 1]\n",
    "y = [4, 5, 2]\n",
    "\n",
    "plt.plot(x, y)\n",
    "\n",
    "plt.title('라인 그래프')"
   ]
  },
  {
   "cell_type": "code",
   "execution_count": 34,
   "id": "bc1f1a39",
   "metadata": {},
   "outputs": [],
   "source": [
    "# 한글 출력 환경 설정하기\n",
    "import matplotlib\n",
    "import matplotlib.font_manager as fm\n",
    "matplotlib.rcParams['font.family'] = 'UnDotum' # 리눅스 돋움체 설정\n",
    "# matplotlib.rcParams['font.family'] = 'Malgun Gothic' # 윈도우 맑은 고딕\n",
    "# matplotlib.rcParams['font.family'] = 'Apple Gothic' # 맥 애플 고딕\n",
    "matplotlib.rcParams['font.size'] = 15 # 폰트 크기\n",
    "matplotlib.rcParams['axes.unicode_minus'] = False  # - 마이너스 글꼴 오류 처리"
   ]
  },
  {
   "cell_type": "code",
   "execution_count": 32,
   "id": "f9b65426",
   "metadata": {},
   "outputs": [
    {
     "data": {
      "text/plain": [
       "['STIXNonUnicode',\n",
       " 'STIXSizeOneSym',\n",
       " 'STIXGeneral',\n",
       " 'cmmi10',\n",
       " 'DejaVu Sans',\n",
       " 'STIXGeneral',\n",
       " 'cmsy10',\n",
       " 'STIXSizeTwoSym',\n",
       " 'STIXNonUnicode',\n",
       " 'DejaVu Serif Display',\n",
       " 'cmr10',\n",
       " 'STIXSizeTwoSym',\n",
       " 'DejaVu Sans',\n",
       " 'DejaVu Sans Mono',\n",
       " 'DejaVu Sans',\n",
       " 'DejaVu Serif',\n",
       " 'DejaVu Sans Mono',\n",
       " 'cmtt10',\n",
       " 'STIXGeneral',\n",
       " 'DejaVu Sans Display',\n",
       " 'DejaVu Serif',\n",
       " 'STIXSizeFiveSym',\n",
       " 'DejaVu Sans Mono',\n",
       " 'DejaVu Sans Mono',\n",
       " 'STIXNonUnicode',\n",
       " 'STIXSizeThreeSym',\n",
       " 'STIXSizeFourSym',\n",
       " 'DejaVu Serif',\n",
       " 'cmex10',\n",
       " 'STIXNonUnicode',\n",
       " 'cmb10',\n",
       " 'STIXSizeFourSym',\n",
       " 'DejaVu Serif',\n",
       " 'STIXSizeThreeSym',\n",
       " 'cmss10',\n",
       " 'STIXSizeOneSym',\n",
       " 'STIXGeneral',\n",
       " 'DejaVu Sans',\n",
       " 'Piboto',\n",
       " 'Lato',\n",
       " 'PibotoLt',\n",
       " 'Quicksand Light',\n",
       " 'cmex10',\n",
       " 'msbm10',\n",
       " 'Liberation Serif',\n",
       " 'Lato',\n",
       " 'Bitstream Vera Sans Mono',\n",
       " 'FreeSerif',\n",
       " 'Liberation Mono',\n",
       " 'Bitstream Vera Sans Mono',\n",
       " 'DejaVu Sans',\n",
       " 'FreeSans',\n",
       " 'Liberation Sans',\n",
       " 'FreeSans',\n",
       " 'Lato',\n",
       " 'Piboto',\n",
       " 'FreeSerif',\n",
       " 'Bitstream Vera Serif',\n",
       " 'Liberation Mono',\n",
       " 'FreeSerif',\n",
       " 'Bitstream Vera Sans',\n",
       " 'Lato',\n",
       " 'Liberation Mono',\n",
       " 'Lato',\n",
       " 'Liberation Mono',\n",
       " 'Piboto',\n",
       " 'Lato',\n",
       " 'DejaVu Sans Mono',\n",
       " 'Lato',\n",
       " 'stmary10',\n",
       " 'UnGraphic',\n",
       " 'UnDotum',\n",
       " 'UnPilgi',\n",
       " 'Bitstream Vera Sans',\n",
       " 'DejaVu Serif',\n",
       " 'Bitstream Vera Sans Mono',\n",
       " 'cmsy10',\n",
       " 'UnBatang',\n",
       " 'DejaVu Sans',\n",
       " 'Lato',\n",
       " 'Noto Mono',\n",
       " 'Lato',\n",
       " 'FreeMono',\n",
       " 'Lato',\n",
       " 'FreeMono',\n",
       " 'Lato',\n",
       " 'Piboto Condensed',\n",
       " 'eufm10',\n",
       " 'Lato',\n",
       " 'Piboto',\n",
       " 'Piboto Condensed',\n",
       " 'PibotoLt',\n",
       " 'Liberation Serif',\n",
       " 'FreeSerif',\n",
       " 'FreeMono',\n",
       " 'UnPilgi',\n",
       " 'Lato',\n",
       " 'Liberation Sans',\n",
       " 'Lato',\n",
       " 'UnDinaru',\n",
       " 'UnDotum',\n",
       " 'UnGraphic',\n",
       " 'cmr10',\n",
       " 'UnDinaru',\n",
       " 'Piboto',\n",
       " 'UnGungseo',\n",
       " 'Quicksand',\n",
       " 'Piboto Condensed',\n",
       " 'PibotoLt',\n",
       " 'Liberation Serif',\n",
       " 'Liberation Serif',\n",
       " 'Piboto',\n",
       " 'FreeMono',\n",
       " 'FreeSans',\n",
       " 'Piboto',\n",
       " 'DejaVu Sans Mono',\n",
       " 'Bitstream Vera Sans',\n",
       " 'Quicksand',\n",
       " 'esint10',\n",
       " 'Liberation Sans',\n",
       " 'Piboto',\n",
       " 'Lato',\n",
       " 'Bitstream Vera Sans Mono',\n",
       " 'Lato',\n",
       " 'Lato',\n",
       " 'FreeSans',\n",
       " 'UnBatang',\n",
       " 'Liberation Sans',\n",
       " 'Bitstream Vera Serif',\n",
       " 'wasy10',\n",
       " 'UnDinaru',\n",
       " 'msam10',\n",
       " 'PibotoLt',\n",
       " 'DejaVu Serif',\n",
       " 'Piboto Condensed',\n",
       " 'Droid Sans Fallback',\n",
       " 'Bitstream Vera Sans',\n",
       " 'Quicksand Medium',\n",
       " 'Lato',\n",
       " 'rsfs10',\n",
       " 'cmmi10']"
      ]
     },
     "execution_count": 32,
     "metadata": {},
     "output_type": "execute_result"
    }
   ],
   "source": [
    "fm.fontManager.ttflist # 글꼴 세부정보 출력\n",
    "[f.name for f in fm.fontManager.ttflist] # 글꼴 이름만 출력"
   ]
  },
  {
   "cell_type": "code",
   "execution_count": null,
   "id": "5f4a2c2f",
   "metadata": {},
   "outputs": [],
   "source": []
  }
 ],
 "metadata": {
  "kernelspec": {
   "display_name": "Python 3 (ipykernel)",
   "language": "python",
   "name": "python3"
  },
  "language_info": {
   "codemirror_mode": {
    "name": "ipython",
    "version": 3
   },
   "file_extension": ".py",
   "mimetype": "text/x-python",
   "name": "python",
   "nbconvert_exporter": "python",
   "pygments_lexer": "ipython3",
   "version": "3.8.7"
  }
 },
 "nbformat": 4,
 "nbformat_minor": 5
}
